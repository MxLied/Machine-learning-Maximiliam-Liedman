{
 "cells": [
  {
   "cell_type": "code",
   "execution_count": 286,
   "metadata": {},
   "outputs": [
    {
     "name": "stdout",
     "output_type": "stream",
     "text": [
      "You have the abilty to kill ghost!\n",
      "You have the abilty to kill ghost!\n",
      "You have the abilty to kill ghost!\n",
      "A pellet!\n",
      "you have 5/10 pellets\n",
      "A GHOST!\n",
      "You killed the ghost!\n",
      "you lost the power\n",
      "A pellet!\n",
      "you have 6/10 pellets\n",
      "A pellet!\n",
      "you have 7/10 pellets\n",
      "A pellet!\n",
      "you have 8/10 pellets\n",
      "A pellet!\n",
      "you have 9/10 pellets\n",
      "A pellet!\n",
      "you have 10/10 pellets\n",
      "you win :)\n"
     ]
    }
   ],
   "source": [
    "import random as rnd\n",
    "# starting score\n",
    "pellets = 4\n",
    "\n",
    "#define powerpellet as a bool \n",
    "powerPellet = False\n",
    "\n",
    "#loops in a random intervall between 1 to 5, game ends then pellets = 10\n",
    "while pellets < 10:\n",
    "    random = rnd.randrange(1, 6)\n",
    "\n",
    "    # scores a pellet\n",
    "    if random == 1:\n",
    "        print(\"A pellet!\")\n",
    "        pellets += 1\n",
    "        print(f\"you have {pellets}/10 pellets\")\n",
    "\n",
    "    #if powerpellet is true you will continue if false loops break this happens then the random intervall loop hits 2\n",
    "    # Then you kill ghost powerpellet changes to false   \n",
    "    if random == 2:\n",
    "        print(\"A GHOST!\")\n",
    "        if powerPellet == True:\n",
    "            print(\"You killed the ghost!\")\n",
    "            print(\"you lost the power\")\n",
    "            powerPellet = False\n",
    "            continue\n",
    "        else:\n",
    "            print(\"you died :(\"),\n",
    "        break\n",
    "    # if it hits 5 you get a powerpellet\n",
    "    if random == 5:\n",
    "        powerPellet = True\n",
    "        print(\"You have the abilty to kill ghost!\")\n",
    "    #ending message\n",
    "    if pellets == 10:\n",
    "        print(\"you win :)\")\n",
    "\n"
   ]
  },
  {
   "cell_type": "code",
   "execution_count": 270,
   "metadata": {},
   "outputs": [
    {
     "name": "stdout",
     "output_type": "stream",
     "text": [
      "(0, 'eat')\n",
      "(1, 'sleep')\n",
      "(2, 'repeat')\n"
     ]
    }
   ],
   "source": [
    "\n",
    "# Python program to illustrate\n",
    "# enumerate function in loops\n",
    "was = [\"eat\", \"sleep\", \"repeat\"]\n",
    "  \n",
    "# printing the tuples in object directly\n",
    "for ele in enumerate(was):\n",
    "    print (ele)\n",
    "  "
   ]
  },
  {
   "cell_type": "code",
   "execution_count": 273,
   "metadata": {},
   "outputs": [
    {
     "name": "stdout",
     "output_type": "stream",
     "text": [
      "(0, 'hej')\n",
      "(1, 'jag')\n",
      "(2, 'är')\n",
      "(3, 1)\n",
      "(4, 'string')\n",
      "(5, 3)\n"
     ]
    }
   ],
   "source": [
    "was = [\"hej\",\"jag\", \"är\", 1, \"string\", 3]\n",
    "\n",
    "for i in enumerate(was):\n",
    "    print(i)"
   ]
  },
  {
   "cell_type": "code",
   "execution_count": 330,
   "metadata": {},
   "outputs": [
    {
     "data": {
      "text/plain": [
       "1"
      ]
     },
     "execution_count": 330,
     "metadata": {},
     "output_type": "execute_result"
    }
   ],
   "source": [
    "\n",
    "random = rnd.randrange(1,3)\n",
    "random"
   ]
  }
 ],
 "metadata": {
  "kernelspec": {
   "display_name": "Python 3",
   "language": "python",
   "name": "python3"
  },
  "language_info": {
   "codemirror_mode": {
    "name": "ipython",
    "version": 3
   },
   "file_extension": ".py",
   "mimetype": "text/x-python",
   "name": "python",
   "nbconvert_exporter": "python",
   "pygments_lexer": "ipython3",
   "version": "3.9.13"
  },
  "orig_nbformat": 4,
  "vscode": {
   "interpreter": {
    "hash": "421da3d2daef97118e416ac0679e46ab60f87b1c022c3327a94a4193c3fed2a9"
   }
  }
 },
 "nbformat": 4,
 "nbformat_minor": 2
}
