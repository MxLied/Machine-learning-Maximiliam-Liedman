{
 "cells": [
  {
   "cell_type": "code",
   "execution_count": 695,
   "metadata": {},
   "outputs": [
    {
     "name": "stdout",
     "output_type": "stream",
     "text": [
      "A pellet!\n",
      "you have 5 pellets\n"
     ]
    }
   ],
   "source": [
    "import random as rnd\n",
    "\n",
    "pellets = 4\n",
    "powerPellet = bool\n",
    "\n",
    "random = rnd.randrange(1,3)\n",
    "\n",
    "for i in range(random):\n",
    "    random = rnd.randrange(1,3)\n",
    "    if random == 1:\n",
    "        print(\"A pellet!\")\n",
    "        pellets += 1\n",
    "        print(f\"you have {pellets} pellets\")\n",
    "    elif random == 2:\n",
    "        print(\"test\")\n"
   ]
  },
  {
   "cell_type": "code",
   "execution_count": 701,
   "metadata": {},
   "outputs": [
    {
     "name": "stdout",
     "output_type": "stream",
     "text": [
      "A pellet!\n",
      "you have 5 pellets\n",
      "A pellet!\n",
      "you have 6 pellets\n",
      "A pellet!\n",
      "you have 7 pellets\n",
      "A pellet!\n",
      "you have 8 pellets\n",
      "A pellet!\n",
      "you have 9 pellets\n",
      "A pellet!\n",
      "you have 10 pellets\n"
     ]
    }
   ],
   "source": [
    "import random as rnd\n",
    "\n",
    "pellets = 4\n",
    "powerPellet = bool\n",
    "\n",
    "while pellets < 10:  # loop until you reach a certain number of pellets, such as 10\n",
    "    random = rnd.randrange(1, 3)\n",
    "\n",
    "    if random == 1:\n",
    "        print(\"A pellet!\")\n",
    "        pellets += 1\n",
    "        print(f\"you have {pellets} pellets\")\n",
    "    elif random == 2:\n",
    "        input(\"A ghost Do you go, north, east, west or south\")\n",
    "\n",
    "\n",
    "        \n",
    "        "
   ]
  },
  {
   "cell_type": "code",
   "execution_count": 524,
   "metadata": {},
   "outputs": [
    {
     "name": "stdout",
     "output_type": "stream",
     "text": [
      "(0, 'eat')\n",
      "(1, 'sleep')\n",
      "(2, 'repeat')\n"
     ]
    }
   ],
   "source": [
    "\n",
    "# Python program to illustrate\n",
    "# enumerate function in loops\n",
    "l1 = [\"eat\", \"sleep\", \"repeat\"]\n",
    "  \n",
    "# printing the tuples in object directly\n",
    "for ele in enumerate(l1):\n",
    "    print (ele)\n",
    "  "
   ]
  },
  {
   "cell_type": "code",
   "execution_count": 406,
   "metadata": {},
   "outputs": [
    {
     "name": "stdout",
     "output_type": "stream",
     "text": [
      "test\n"
     ]
    }
   ],
   "source": [
    "\n"
   ]
  },
  {
   "cell_type": "code",
   "execution_count": 330,
   "metadata": {},
   "outputs": [
    {
     "data": {
      "text/plain": [
       "1"
      ]
     },
     "execution_count": 330,
     "metadata": {},
     "output_type": "execute_result"
    }
   ],
   "source": [
    "\n",
    "random = rnd.randrange(1,3)\n",
    "random"
   ]
  },
  {
   "cell_type": "code",
   "execution_count": 236,
   "metadata": {},
   "outputs": [
    {
     "ename": "AttributeError",
     "evalue": "'int' object has no attribute 'randint'",
     "output_type": "error",
     "traceback": [
      "\u001b[1;31m---------------------------------------------------------------------------\u001b[0m",
      "\u001b[1;31mAttributeError\u001b[0m                            Traceback (most recent call last)",
      "\u001b[1;32mc:\\Users\\maxim\\Documents\\GITHUB\\Machine-learning-Maximiliam-Liedman\\Exercises\\test.ipynb Cell 2\u001b[0m in \u001b[0;36m<cell line: 1>\u001b[1;34m()\u001b[0m\n\u001b[0;32m      <a href='vscode-notebook-cell:/c%3A/Users/maxim/Documents/GITHUB/Machine-learning-Maximiliam-Liedman/Exercises/test.ipynb#W3sZmlsZQ%3D%3D?line=0'>1</a>\u001b[0m \u001b[39mfor\u001b[39;00m i \u001b[39min\u001b[39;00m \u001b[39mrange\u001b[39m(\u001b[39m5\u001b[39m):\n\u001b[1;32m----> <a href='vscode-notebook-cell:/c%3A/Users/maxim/Documents/GITHUB/Machine-learning-Maximiliam-Liedman/Exercises/test.ipynb#W3sZmlsZQ%3D%3D?line=1'>2</a>\u001b[0m     random_number \u001b[39m=\u001b[39m random\u001b[39m.\u001b[39;49mrandint(\u001b[39m1\u001b[39m, \u001b[39m10\u001b[39m)\n\u001b[0;32m      <a href='vscode-notebook-cell:/c%3A/Users/maxim/Documents/GITHUB/Machine-learning-Maximiliam-Liedman/Exercises/test.ipynb#W3sZmlsZQ%3D%3D?line=2'>3</a>\u001b[0m     \u001b[39mprint\u001b[39m(random_number)\n",
      "\u001b[1;31mAttributeError\u001b[0m: 'int' object has no attribute 'randint'"
     ]
    }
   ],
   "source": [
    "\n",
    "for i in range(5):\n",
    "    random_number = random.randint(1, 10)\n",
    "    print(random_number)"
   ]
  },
  {
   "cell_type": "code",
   "execution_count": 133,
   "metadata": {},
   "outputs": [
    {
     "name": "stdout",
     "output_type": "stream",
     "text": [
      "A pellet!\n",
      "you have 6 pellets\n"
     ]
    }
   ],
   "source": [
    "if pellets:\n",
    "    print(\"A pellet!\")\n",
    "    pellets +=1\n",
    "    print(f\"you have {pellets} pellets\")\n"
   ]
  }
 ],
 "metadata": {
  "kernelspec": {
   "display_name": "Python 3",
   "language": "python",
   "name": "python3"
  },
  "language_info": {
   "codemirror_mode": {
    "name": "ipython",
    "version": 3
   },
   "file_extension": ".py",
   "mimetype": "text/x-python",
   "name": "python",
   "nbconvert_exporter": "python",
   "pygments_lexer": "ipython3",
   "version": "3.9.13"
  },
  "orig_nbformat": 4,
  "vscode": {
   "interpreter": {
    "hash": "0dcd1d2511816899a74ba735f0586ad2a5252297c95097d38969d839b5b7443a"
   }
  }
 },
 "nbformat": 4,
 "nbformat_minor": 2
}
