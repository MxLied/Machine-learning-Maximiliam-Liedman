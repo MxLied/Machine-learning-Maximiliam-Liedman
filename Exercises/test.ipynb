{
 "cells": [
  {
   "attachments": {},
   "cell_type": "markdown",
   "metadata": {},
   "source": [
    "## Create rules for pacman"
   ]
  },
  {
   "cell_type": "code",
   "execution_count": 126,
   "metadata": {},
   "outputs": [
    {
     "name": "stdout",
     "output_type": "stream",
     "text": [
      "You have the abilty to kill ghost!\n",
      "A GHOST!\n",
      "You killed the ghost!\n",
      "you lost the power\n",
      "A GHOST!\n",
      "you died :(\n"
     ]
    }
   ],
   "source": [
    "import random as rnd\n",
    "# starting score\n",
    "pellets = 4\n",
    "\n",
    "#define powerpellet as a bool \n",
    "powerPellet = False\n",
    "\n",
    "#loops in a random intervall between 1 to 5, game ends then pellets = 10\n",
    "while pellets < 10:\n",
    "    random = rnd.randrange(1, 6)\n",
    "\n",
    "    # scores a pellet\n",
    "    if random == 1:\n",
    "        print(\"A pellet!\")\n",
    "        pellets += 1\n",
    "        print(f\"you have {pellets}/10 pellets\")\n",
    "\n",
    "    #if powerpellet is true you will continue if false loops break this happens then the random intervall loop hits 2\n",
    "    # Then you kill ghost powerpellet changes to false   \n",
    "    if random == 2:\n",
    "        print(\"A GHOST!\")\n",
    "        if powerPellet == True:\n",
    "            print(\"You killed the ghost!\")\n",
    "            print(\"you lost the power\")\n",
    "            powerPellet = False\n",
    "            continue\n",
    "        else:\n",
    "            print(\"you died :(\"),\n",
    "        break\n",
    "    # if it hits 5 you get a powerpellet\n",
    "    if random == 5:\n",
    "        powerPellet = True\n",
    "        print(\"You have the abilty to kill ghost!\")\n",
    "    #ending message\n",
    "    if pellets == 10:\n",
    "        print(\"you win :)\")\n",
    "\n"
   ]
  },
  {
   "attachments": {},
   "cell_type": "markdown",
   "metadata": {},
   "source": [
    "## currency exchange\n",
    "\n",
    "Your friend Chandler plans to visit exotic countries all around the world. Sadly, Chandler's math skills aren't good. He's pretty worried about being scammed by currency exchanges during his trip - and he wants you to make a currency calculator for him"
   ]
  },
  {
   "cell_type": "code",
   "execution_count": 127,
   "metadata": {},
   "outputs": [
    {
     "data": {
      "text/plain": [
       "[2, 2, 2, 2, 2, 2, 2, 2, 2, 2]"
      ]
     },
     "execution_count": 127,
     "metadata": {},
     "output_type": "execute_result"
    }
   ],
   "source": [
    "magic_coins = 1\n",
    "forigen_coins = 2\n",
    "\n",
    "## element mängden kan gångras om det gångras utanför loopen \n",
    "coinpouch = [magic_coins] * 20\n",
    "\n",
    "# coinpouch = [magic_coins*20] #här gångra elementen  \n",
    "\n",
    "# coinpouch.append(forigen_coins)\n",
    "\n",
    "\n",
    "for i in range(len(coinpouch)):\n",
    "    \n",
    "    coinpouch.append(forigen_coins)\n",
    "    coinpouch.remove(magic_coins)\n",
    "\n",
    "\n",
    "coinpouch = coinpouch[:len(coinpouch)//2]\n",
    "\n",
    "coinpouch\n",
    "\n",
    "#need a more generlized solution\n"
   ]
  },
  {
   "cell_type": "code",
   "execution_count": 128,
   "metadata": {},
   "outputs": [
    {
     "name": "stdout",
     "output_type": "stream",
     "text": [
      "[0.6, 0.6, 0.6, 0.6, 0.6, 0.6, 0.6, 0.6, 0.6, 0.6, 0.6]\n"
     ]
    }
   ],
   "source": [
    "#creates floats\n",
    "swecrown = 1\n",
    "usdollar = 10.40\n",
    "\n",
    "exhange = swecrown/usdollar\n",
    "\n",
    "coinpouch = [swecrown]*99\n",
    "\n",
    "coinpouch = coinpouch[:len(coinpouch)//9]\n",
    "\n",
    "\n",
    "coinpouch = [0.6 for i in coinpouch]\n",
    "\n",
    "print(coinpouch)\n",
    "\n",
    "\n"
   ]
  },
  {
   "cell_type": "code",
   "execution_count": 3,
   "metadata": {},
   "outputs": [
    {
     "name": "stdout",
     "output_type": "stream",
     "text": [
      "acc =  2\n",
      "intpart =  2\n",
      "decimalpart =  0\n",
      "[1, 1, 0]\n"
     ]
    }
   ],
   "source": [
    "import math \n",
    "floatlist = []\n",
    "\n",
    "def transformlist(floatlist):\n",
    "    acc = 0\n",
    "    for listelement in floatlist:\n",
    "        acc = acc + float(listelement)\n",
    "    acc = 2\n",
    "\n",
    "    print('acc = ', acc) \n",
    "\n",
    " \n",
    "    intpart = math.floor(float(acc))\n",
    "    decimalpart = (acc - intpart)\n",
    "   \n",
    "    print('intpart = ', intpart) \n",
    "    print('decimalpart = ', decimalpart) \n",
    "\n",
    "    result = []\n",
    "\n",
    "    result = [1] *intpart\n",
    "    result.append(decimalpart)\n",
    "\n",
    "\n",
    "    return result\n",
    "\n",
    "\n",
    "\n",
    "print(transformlist(floatlist))\n"
   ]
  },
  {
   "cell_type": "code",
   "execution_count": 130,
   "metadata": {},
   "outputs": [
    {
     "name": "stdout",
     "output_type": "stream",
     "text": [
      "0\n"
     ]
    }
   ],
   "source": [
    "floattty = 0.3\n",
    "\n",
    "print(round(floattty))"
   ]
  },
  {
   "cell_type": "code",
   "execution_count": null,
   "metadata": {},
   "outputs": [],
   "source": [
    "#   print('acc = ', acc) ## print(f'acc = {acc}')\n",
    "#     # mul_acc = acc*10\n",
    "#     # intpart = mul_acc//10\n",
    "#     # decimalpart = (mul_acc-(intpart*10))/10\n",
    "\n",
    "#     # intpart = int(acc)\n",
    "#     intpart = math.floor(float(acc))\n",
    "#     decimalpart = (acc - intpart)\n",
    "#     #     # decimalpart = acc%1\n",
    "#     print('intpart = ', intpart) \n",
    "#     print('decimalpart = ', decimalpart) \n",
    "\n",
    "#     result = []\n",
    "\n",
    "#     result = [1] *intpart\n",
    "#     result.append(decimalpart)\n",
    "\n",
    "\n",
    "#     return result"
   ]
  },
  {
   "cell_type": "code",
   "execution_count": 131,
   "metadata": {},
   "outputs": [
    {
     "data": {
      "text/plain": [
       "[1.0, 2.0, 3.0, 4.0, 5.0, 6.0, 7.0, 8.0, 9.0]"
      ]
     },
     "execution_count": 131,
     "metadata": {},
     "output_type": "execute_result"
    }
   ],
   "source": [
    "myList = [10,20,30,40,50,60,70,80,90]\n",
    "myInt = 10\n",
    "newList = [x / myInt for x in myList]\n",
    "newList"
   ]
  },
  {
   "cell_type": "code",
   "execution_count": 132,
   "metadata": {},
   "outputs": [
    {
     "name": "stdout",
     "output_type": "stream",
     "text": [
      "xxxxx\n",
      "xxxx\n",
      "xxx\n",
      "xx\n",
      "x\n"
     ]
    }
   ],
   "source": [
    "n= 5\n",
    "for i in range(n):\n",
    "    print((n-i) *'x')\n",
    "   \n"
   ]
  }
 ],
 "metadata": {
  "kernelspec": {
   "display_name": "Machine-learning-Maximiliam-Liedman-kRBN6yzb",
   "language": "python",
   "name": "python3"
  },
  "language_info": {
   "codemirror_mode": {
    "name": "ipython",
    "version": 3
   },
   "file_extension": ".py",
   "mimetype": "text/x-python",
   "name": "python",
   "nbconvert_exporter": "python",
   "pygments_lexer": "ipython3",
   "version": "3.9.13"
  },
  "orig_nbformat": 4,
  "vscode": {
   "interpreter": {
    "hash": "ba0f1825c00db9a354827c3f515469abd4ec4d678c09ee4bbe6582d351a0b850"
   }
  }
 },
 "nbformat": 4,
 "nbformat_minor": 2
}
