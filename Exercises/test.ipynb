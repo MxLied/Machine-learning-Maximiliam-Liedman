{
 "cells": [
  {
   "cell_type": "code",
   "execution_count": 695,
   "metadata": {},
   "outputs": [
    {
     "name": "stdout",
     "output_type": "stream",
     "text": [
      "A pellet!\n",
      "you have 5 pellets\n"
     ]
    }
   ],
   "source": [
    "import random as rnd\n",
    "\n",
    "pellets = 4\n",
    "powerPellet = bool\n",
    "\n",
    "random = rnd.randrange(1,3)\n",
    "\n",
    "for i in range(random):\n",
    "    random = rnd.randrange(1,3)\n",
    "    if random == 1:\n",
    "        print(\"A pellet!\")\n",
    "        pellets += 1\n",
    "        print(f\"you have {pellets} pellets\")\n",
    "    elif random == 2:\n",
    "        print(\"test\")\n"
   ]
  },
  {
   "cell_type": "code",
   "execution_count": 192,
   "metadata": {},
   "outputs": [
    {
     "name": "stdout",
     "output_type": "stream",
     "text": [
      "Powerpellet = True\n",
      "A pellet!\n",
      "you have 5 pellets\n",
      "A GHOST!\n",
      "A GHOST!\n",
      "Powerpellet = True\n",
      "A pellet!\n",
      "you have 6 pellets\n",
      "A pellet!\n",
      "you have 7 pellets\n",
      "A pellet!\n",
      "you have 8 pellets\n",
      "A GHOST!\n",
      "A pellet!\n",
      "you have 9 pellets\n",
      "A GHOST!\n",
      "Powerpellet = True\n",
      "Powerpellet = True\n",
      "A GHOST!\n",
      "Powerpellet = True\n",
      "Powerpellet = True\n",
      "A GHOST!\n",
      "A pellet!\n",
      "you have 10 pellets\n"
     ]
    }
   ],
   "source": [
    "import random as rnd\n",
    "\n",
    "pellets = 4\n",
    "powerPellet = False\n",
    "while pellets < 10:  \n",
    "    random = rnd.randrange(1, 6)\n",
    "\n",
    "    if random == 1:\n",
    "        print(\"A pellet!\")\n",
    "        pellets += 1\n",
    "        print(f\"you have {pellets} pellets\")\n",
    "    \n",
    "\n",
    "    #print(\"F\" + str(powerPellet))\n",
    "    if random == 2:\n",
    "        print(\"A GHOST!\")\n",
    "        if powerPellet == True:\n",
    "            # confirm = input(\"You have a powerpellet wanna use it? :yes no\")\n",
    "            # if confirm == \"yes\":\n",
    "            #     continue\n",
    "        else:  print(\"you died :(\"),\n",
    "        break \n",
    "            \n",
    "    if random == 5:\n",
    "        powerPellet = True\n",
    "        print(\"Powerpellet = True\")\n",
    "    \n",
    "    # if random == 3:\n",
    "    #     powerPellet = False \n",
    "    #     print(\"you lost the power\")\n",
    "\n",
    "   \n",
    "\n",
    "\n",
    "\n",
    "        \n",
    "        "
   ]
  },
  {
   "cell_type": "code",
   "execution_count": 265,
   "metadata": {},
   "outputs": [
    {
     "name": "stdout",
     "output_type": "stream",
     "text": [
      "A pellet!\n",
      "you have 5/10 pellets\n",
      "A pellet!\n",
      "you have 6/10 pellets\n",
      "You have the abilty to kill ghost!\n",
      "You have the abilty to kill ghost!\n",
      "A GHOST!\n",
      "You killed the ghost!\n",
      "you lost the power\n",
      "A pellet!\n",
      "you have 7/10 pellets\n",
      "A GHOST!\n",
      "you died :(\n"
     ]
    }
   ],
   "source": [
    "import random as rnd\n",
    "\n",
    "pellets = 4\n",
    "powerPellet = False\n",
    "while pellets < 10:\n",
    "    random = rnd.randrange(1, 6)\n",
    "\n",
    "    if random == 1:\n",
    "        print(\"A pellet!\")\n",
    "        pellets += 1\n",
    "        print(f\"you have {pellets}/10 pellets\")\n",
    "\n",
    "    # print(\"F\" + str(powerPellet))\n",
    "    if random == 2:\n",
    "        print(\"A GHOST!\")\n",
    "        if powerPellet == True:\n",
    "            print(\"You killed the ghost!\")\n",
    "            print(\"you lost the power\")\n",
    "            powerPellet = False\n",
    "            continue\n",
    "        else:\n",
    "            print(\"you died :(\"),\n",
    "        break\n",
    "\n",
    "    if random == 5:\n",
    "        powerPellet = True\n",
    "        print(\"You have the abilty to kill ghost!\")\n",
    "    if pellets == 10:\n",
    "        print(\"you win :)\")\n",
    "\n"
   ]
  },
  {
   "cell_type": "code",
   "execution_count": 270,
   "metadata": {},
   "outputs": [
    {
     "name": "stdout",
     "output_type": "stream",
     "text": [
      "(0, 'eat')\n",
      "(1, 'sleep')\n",
      "(2, 'repeat')\n"
     ]
    }
   ],
   "source": [
    "\n",
    "# Python program to illustrate\n",
    "# enumerate function in loops\n",
    "was = [\"eat\", \"sleep\", \"repeat\"]\n",
    "  \n",
    "# printing the tuples in object directly\n",
    "for ele in enumerate(was):\n",
    "    print (ele)\n",
    "  "
   ]
  },
  {
   "cell_type": "code",
   "execution_count": 273,
   "metadata": {},
   "outputs": [
    {
     "name": "stdout",
     "output_type": "stream",
     "text": [
      "(0, 'hej')\n",
      "(1, 'jag')\n",
      "(2, 'är')\n",
      "(3, 1)\n",
      "(4, 'string')\n",
      "(5, 3)\n"
     ]
    }
   ],
   "source": [
    "was = [\"hej\",\"jag\", \"är\", 1, \"string\", 3]\n",
    "\n",
    "for i in enumerate(was):\n",
    "    print(i)"
   ]
  },
  {
   "cell_type": "code",
   "execution_count": 330,
   "metadata": {},
   "outputs": [
    {
     "data": {
      "text/plain": [
       "1"
      ]
     },
     "execution_count": 330,
     "metadata": {},
     "output_type": "execute_result"
    }
   ],
   "source": [
    "\n",
    "random = rnd.randrange(1,3)\n",
    "random"
   ]
  },
  {
   "cell_type": "code",
   "execution_count": 236,
   "metadata": {},
   "outputs": [
    {
     "ename": "AttributeError",
     "evalue": "'int' object has no attribute 'randint'",
     "output_type": "error",
     "traceback": [
      "\u001b[1;31m---------------------------------------------------------------------------\u001b[0m",
      "\u001b[1;31mAttributeError\u001b[0m                            Traceback (most recent call last)",
      "\u001b[1;32mc:\\Users\\maxim\\Documents\\GITHUB\\Machine-learning-Maximiliam-Liedman\\Exercises\\test.ipynb Cell 2\u001b[0m in \u001b[0;36m<cell line: 1>\u001b[1;34m()\u001b[0m\n\u001b[0;32m      <a href='vscode-notebook-cell:/c%3A/Users/maxim/Documents/GITHUB/Machine-learning-Maximiliam-Liedman/Exercises/test.ipynb#W3sZmlsZQ%3D%3D?line=0'>1</a>\u001b[0m \u001b[39mfor\u001b[39;00m i \u001b[39min\u001b[39;00m \u001b[39mrange\u001b[39m(\u001b[39m5\u001b[39m):\n\u001b[1;32m----> <a href='vscode-notebook-cell:/c%3A/Users/maxim/Documents/GITHUB/Machine-learning-Maximiliam-Liedman/Exercises/test.ipynb#W3sZmlsZQ%3D%3D?line=1'>2</a>\u001b[0m     random_number \u001b[39m=\u001b[39m random\u001b[39m.\u001b[39;49mrandint(\u001b[39m1\u001b[39m, \u001b[39m10\u001b[39m)\n\u001b[0;32m      <a href='vscode-notebook-cell:/c%3A/Users/maxim/Documents/GITHUB/Machine-learning-Maximiliam-Liedman/Exercises/test.ipynb#W3sZmlsZQ%3D%3D?line=2'>3</a>\u001b[0m     \u001b[39mprint\u001b[39m(random_number)\n",
      "\u001b[1;31mAttributeError\u001b[0m: 'int' object has no attribute 'randint'"
     ]
    }
   ],
   "source": [
    "\n",
    "for i in range(5):\n",
    "    random_number = random.randint(1, 10)\n",
    "    print(random_number)"
   ]
  },
  {
   "cell_type": "code",
   "execution_count": 133,
   "metadata": {},
   "outputs": [
    {
     "name": "stdout",
     "output_type": "stream",
     "text": [
      "A pellet!\n",
      "you have 6 pellets\n"
     ]
    }
   ],
   "source": [
    "if pellets:\n",
    "    print(\"A pellet!\")\n",
    "    pellets +=1\n",
    "    print(f\"you have {pellets} pellets\")\n"
   ]
  }
 ],
 "metadata": {
  "kernelspec": {
   "display_name": "Python 3",
   "language": "python",
   "name": "python3"
  },
  "language_info": {
   "codemirror_mode": {
    "name": "ipython",
    "version": 3
   },
   "file_extension": ".py",
   "mimetype": "text/x-python",
   "name": "python",
   "nbconvert_exporter": "python",
   "pygments_lexer": "ipython3",
   "version": "3.9.13"
  },
  "orig_nbformat": 4,
  "vscode": {
   "interpreter": {
    "hash": "421da3d2daef97118e416ac0679e46ab60f87b1c022c3327a94a4193c3fed2a9"
   }
  }
 },
 "nbformat": 4,
 "nbformat_minor": 2
}
